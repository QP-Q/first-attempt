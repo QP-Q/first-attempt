{
  "nbformat": 4,
  "nbformat_minor": 0,
  "metadata": {
    "colab": {
      "name": ".ipynb",
      "provenance": [],
      "collapsed_sections": [],
      "include_colab_link": true
    },
    "kernelspec": {
      "name": "python3",
      "display_name": "Python 3"
    },
    "language_info": {
      "name": "python"
    }
  },
  "cells": [
    {
      "cell_type": "markdown",
      "metadata": {
        "id": "view-in-github",
        "colab_type": "text"
      },
      "source": [
        "<a href=\"https://colab.research.google.com/github/QP-Q/first-attempt/blob/main/untitled.ipynb\" target=\"_parent\"><img src=\"https://colab.research.google.com/assets/colab-badge.svg\" alt=\"Open In Colab\"/></a>"
      ]
    },
    {
      "cell_type": "code",
      "execution_count": 17,
      "metadata": {
        "colab": {
          "base_uri": "https://localhost:8080/"
        },
        "id": "pjKs7qdgp6Ed",
        "outputId": "d643c295-04a2-459b-8517-bda1b9eea648"
      },
      "outputs": [
        {
          "output_type": "stream",
          "name": "stdout",
          "text": [
            "Looking in indexes: https://pypi.org/simple, https://us-python.pkg.dev/colab-wheels/public/simple/\n",
            "Requirement already satisfied: pulp==2.6 in /usr/local/lib/python3.7/dist-packages (2.6.0)\n",
            "GLPSOL: GLPK LP/MIP Solver, v4.65\n",
            "Copyright (C) 2000-2017 Andrew Makhorin, Department for Applied\n",
            "Informatics, Moscow Aviation Institute, Moscow, Russia. All rights\n",
            "reserved. E-mail: <mao@gnu.org>.\n",
            "\n",
            "This program has ABSOLUTELY NO WARRANTY.\n",
            "\n",
            "This program is free software; you may re-distribute it under the terms\n",
            "of the GNU General Public License version 3 or later.\n"
          ]
        }
      ],
      "source": [
        "!python -m pip install -U \"pulp==2.6\"\n",
        "!apt-get install -y -qq glpk-utils\n",
        "!glpsol --version"
      ]
    },
    {
      "cell_type": "code",
      "source": [
        "import numpy as np\n",
        " \n",
        "# keep vertices in a set\n",
        "nodes = {0:59}\n",
        "# keep edges in a set\n",
        "links = {(1, 2), (1, 3), (1, 6), (1, 11), (1, 12), (1, 13), (2, 1), (2, 3), (2, 7), (2, 21), (2, 22), (2, 23), (3, 1), (3, 2), (3, 31), (3, 32), (3, 33), (3, 34), (3, 35), (3, 36), (4, 42), (5, 52), (6, 1), (7, 2), (11, 1), (12, 1), (13, 1), (21, 2), (22, 2), (23, 2), (31, 3), (32, 3), (33, 3), (34, 3), (35, 3), (36, 3), (41, 4), (51, 5)}\n",
        "# create a 60X60 integer numpy array with all values initialised to zero\n",
        "network_graph = np.zeros((60, 60)).astype(int)\n",
        "# Represent edges in the adjacency matrix\n",
        "for edge in links:\n",
        "    v1 = edge[0]\n",
        "    v2 = edge[1]\n",
        "    network_graph[v1][v2] = 1\n",
        "    network_graph[v2][v1] = 1 # if v1 is connected to v2, v2 is also connected to v1\n",
        "print(\"The set of vertices of the graph is:\")\n",
        "print(nodes)\n",
        "print(\"The set of edges of the graph is:\")\n",
        "print(links)\n",
        "print(\"The adjacency matrix representing the graph is:\")\n",
        "print(network_graph)"
      ],
      "metadata": {
        "colab": {
          "base_uri": "https://localhost:8080/"
        },
        "id": "njTpygfSNqco",
        "outputId": "bb923b2c-c8f8-4d8d-da72-a1a639b9f6bc"
      },
      "execution_count": 18,
      "outputs": [
        {
          "output_type": "stream",
          "name": "stdout",
          "text": [
            "The set of vertices of the graph is:\n",
            "{0: 59}\n",
            "The set of edges of the graph is:\n",
            "{(1, 3), (12, 1), (3, 35), (21, 2), (2, 1), (51, 5), (2, 22), (1, 6), (36, 3), (1, 11), (7, 2), (1, 2), (4, 42), (3, 34), (22, 2), (33, 3), (23, 2), (2, 23), (3, 31), (11, 1), (41, 4), (32, 3), (3, 2), (35, 3), (1, 13), (3, 33), (5, 52), (2, 3), (31, 3), (3, 36), (2, 7), (13, 1), (1, 12), (3, 32), (2, 21), (3, 1), (6, 1), (34, 3)}\n",
            "The adjacency matrix representing the graph is:\n",
            "[[0 0 0 ... 0 0 0]\n",
            " [0 0 1 ... 0 0 0]\n",
            " [0 1 0 ... 0 0 0]\n",
            " ...\n",
            " [0 0 0 ... 0 0 0]\n",
            " [0 0 0 ... 0 0 0]\n",
            " [0 0 0 ... 0 0 0]]\n"
          ]
        }
      ]
    },
    {
      "cell_type": "code",
      "source": [
        "# using the classical paradadigm for client/server\n",
        "#declaring the set of sources\n",
        "source_nodes = {41,51}\n",
        "#declaring the set of destination\n",
        "destination_nodes = {42, 52}\n",
        "#declaring the computation nodes\n",
        "proc_nodes = {11:13, 21:23, 31:36}\n",
        "#communication nodes\n",
        "comm_nodes = {1:3}"
      ],
      "metadata": {
        "id": "FSWXy-SsPmDs"
      },
      "execution_count": 33,
      "outputs": []
    },
    {
      "cell_type": "code",
      "source": [
        "#Service Graph \n",
        "#keep vertices in a set\n",
        "functions = {0:59}\n",
        "# keep edges in a set\n",
        "objects = {(10, 11), (11, 12), (12, 19), (20, 21), (21, 23), (23, 29), (30, 33), (33, 34), (34, 39), (40, 41), (40, 43), (41, 49), (43, 49), (50, 59)}\n",
        "# create a 60X60 integer numpy array with all values initialised to zero\n",
        "service_graph = np.zeros((60, 60)).astype(int)\n",
        "# Represent edges in the adjacency matrix\n",
        "for edge in objects:\n",
        "    v1 = edge[0]\n",
        "    v2 = edge[1]\n",
        "    service_graph[v1][v2] = 1\n",
        "    service_graph[v2][v1] = 1 # if v1 is connected to v2, v2 is also connected to v1"
      ],
      "metadata": {
        "id": "uYCdW6nDgEEB"
      },
      "execution_count": 24,
      "outputs": []
    },
    {
      "cell_type": "code",
      "source": [
        "#declaring the set of sources\n",
        "source_functions = {10, 20, 30, 40, 50}\n",
        "#declaring the set of destination\n",
        "destination_functions = {19, 29, 39, 49, 59}\n",
        "#declaring the function nodes\n",
        "proc_functions = {11:18, 21:28, 31:38, 41:48}"
      ],
      "metadata": {
        "id": "XPHYfDZsBTTB"
      },
      "execution_count": 25,
      "outputs": []
    },
    {
      "cell_type": "code",
      "source": [
        "#source and destination mapping\n",
        "source_function_to_nodes #map between source node 10 -> 41 \n",
        "destination_function_to_nodes #map 19 -> 42"
      ],
      "metadata": {
        "id": "XsJBIzRuYdBO"
      },
      "execution_count": null,
      "outputs": []
    },
    {
      "cell_type": "code",
      "source": [
        "from pulp import LpMaximize, LpProblem, LpStatus, lpSum, LpVariable, const"
      ],
      "metadata": {
        "id": "K_1wQic8US5v"
      },
      "execution_count": 26,
      "outputs": []
    },
    {
      "cell_type": "markdown",
      "source": [
        "Installed PuLP and GLPK, we import GLPK from PuLP! (PuLP is a Python Library. GLPK is a linear programming solver provided by PuLP)"
      ],
      "metadata": {
        "id": "--psQf6WrKWj"
      }
    },
    {
      "cell_type": "code",
      "source": [
        "from pulp import GLPK"
      ],
      "metadata": {
        "id": "V_xBHfY8tmNG"
      },
      "execution_count": 27,
      "outputs": []
    },
    {
      "cell_type": "code",
      "source": [
        "from pulp.constants import LpMinimize\n",
        "# Create the model\n",
        "model = LpProblem(name=\"opt-problem\", sense=LpMinimize)"
      ],
      "metadata": {
        "id": "4cQx6iW-vA2v"
      },
      "execution_count": 28,
      "outputs": []
    },
    {
      "cell_type": "code",
      "source": [
        "# Initialize the decision variables:  y is the resource allocation\n",
        "y = LpVariable(name=\"y\", lowBound=0)"
      ],
      "metadata": {
        "id": "DcX2wTa1UldO"
      },
      "execution_count": 29,
      "outputs": []
    },
    {
      "cell_type": "code",
      "source": [
        "# Initialize the constraint variables: f binary variables; L_da are integers; d_o is a double\n",
        "f = LpVariable(name=\"f\", lowBound=0, cat=\"Binary\")\n",
        "f_vu = LpVariable(name=\"f_vu\", lowBound=0, cat=\"Binary\")\n",
        "f_uv = LpVariable(name=\"f_uv\", lowBound=0, cat=\"Binary\")\n",
        "f_pu = LpVariable(name=\"f_pu\", lowBound=0, cat=\"Binary\")\n",
        "f_up = LpVariable(name=\"f_up\", lowBound=0, cat=\"Binary\")\n",
        "f_su = LpVariable(name=\"f_su\", lowBound=0, cat=\"Binary\") \n",
        "f_uq = LpVariable(name=\"f_uq\", lowBound=0, cat=\"Binary\")\n",
        "d_o = LpVariable(name=\"d_o\", lowBound=0)\n",
        "#lmbd = {16, 32}\n",
        "lmbd = 16\n",
        "#c_e = {50, 100, 200}\n",
        "c_e = 50\n",
        "#d_e = {1, 5, 10}\n",
        "d_e = 5\n",
        "#d_fi = {10, 20, 40, 50}\n",
        "d_fi = 10"
      ],
      "metadata": {
        "id": "RGtTa6ofUyVV"
      },
      "execution_count": 30,
      "outputs": []
    },
    {
      "cell_type": "code",
      "source": [
        "#Add the constraint to the model\n",
        "for \n",
        "model += (lpSum(lmbd*f) <= y <= c_e)\n",
        "model += (lpSum(f_vu) <= lpSum(f_uv))\n",
        "model += (f_pu == f_up) \n",
        "model += (f_su == 1)\n",
        "model += (f_uq == 1)\n",
        "model += (lpSum(d_e*f) <= d_o)\n",
        "model += (lpSum(d_o) <= d_fi)"
      ],
      "metadata": {
        "id": "sul-eEdChAkN"
      },
      "execution_count": null,
      "outputs": []
    },
    {
      "cell_type": "code",
      "source": [
        "# Add the objective function to the model\n",
        "# w is the cost and it is a vector or a constant or anyway and input\n",
        "w = 10;\n",
        "model += (lpSum(w*y))"
      ],
      "metadata": {
        "id": "kPxioFabjotd"
      },
      "execution_count": 31,
      "outputs": []
    },
    {
      "cell_type": "code",
      "source": [
        "model"
      ],
      "metadata": {
        "colab": {
          "base_uri": "https://localhost:8080/"
        },
        "id": "BUiT96vx041M",
        "outputId": "0aea6bb8-6a4a-44bf-df41-f486831999e2"
      },
      "execution_count": null,
      "outputs": [
        {
          "output_type": "execute_result",
          "data": {
            "text/plain": [
              "opt-problem:\n",
              "MINIMIZE\n",
              "10*y + 0\n",
              "SUBJECT TO\n",
              "_C1: y <= 200\n",
              "\n",
              "_C2: - y <= -64\n",
              "\n",
              "_C3: - f_uv + f_vu <= 0\n",
              "\n",
              "_C4: f_pu - f_up = 0\n",
              "\n",
              "_C5: f_su = 1\n",
              "\n",
              "_C6: f_uq = 1\n",
              "\n",
              "_C7: - d_o <= -2\n",
              "\n",
              "_C8: d_o <= 20\n",
              "\n",
              "VARIABLES\n",
              "d_o Continuous\n",
              "0 <= f_pu <= 1 Integer\n",
              "0 <= f_su <= 1 Integer\n",
              "0 <= f_up <= 1 Integer\n",
              "0 <= f_uq <= 1 Integer\n",
              "0 <= f_uv <= 1 Integer\n",
              "0 <= f_vu <= 1 Integer\n",
              "y Continuous"
            ]
          },
          "metadata": {},
          "execution_count": 29
        }
      ]
    },
    {
      "cell_type": "code",
      "source": [
        "model.solve ()\n",
        "\n",
        "print (y.varValue) "
      ],
      "metadata": {
        "colab": {
          "base_uri": "https://localhost:8080/"
        },
        "id": "AEprZQ5HADpZ",
        "outputId": "c4d16d12-2317-46b6-ebcb-9def59b88231"
      },
      "execution_count": null,
      "outputs": [
        {
          "output_type": "stream",
          "name": "stdout",
          "text": [
            "64.0\n"
          ]
        }
      ]
    }
  ]
}